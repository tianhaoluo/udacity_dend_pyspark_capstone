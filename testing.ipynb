{
 "cells": [
  {
   "cell_type": "code",
   "execution_count": 4,
   "metadata": {
    "editable": true
   },
   "outputs": [],
   "source": [
    "import configparser\n",
    "import os\n",
    "from pyspark.sql import SparkSession"
   ]
  },
  {
   "cell_type": "code",
   "execution_count": 2,
   "metadata": {
    "editable": true
   },
   "outputs": [],
   "source": [
    "config = configparser.ConfigParser()\n",
    "config.read('dl.cfg')\n",
    "output_data = config.get('S3','OUTPUT')"
   ]
  },
  {
   "cell_type": "code",
   "execution_count": 5,
   "metadata": {
    "editable": true
   },
   "outputs": [],
   "source": [
    "def create_spark_session():\n",
    "    \"\"\"Create a spark session\n",
    "    \n",
    "        Args:\n",
    "            - None\n",
    "        \n",
    "        Return:\n",
    "            - An instance of SparkSession\n",
    "    \"\"\"\n",
    "    spark = SparkSession \\\n",
    "        .builder \\\n",
    "        .config(\"spark.jars.packages\", \"org.apache.hadoop:hadoop-aws:2.7.0\") \\\n",
    "        .getOrCreate()\n",
    "    return spark"
   ]
  },
  {
   "cell_type": "code",
   "execution_count": 6,
   "metadata": {
    "editable": true
   },
   "outputs": [],
   "source": [
    "spark = create_spark_session()"
   ]
  },
  {
   "cell_type": "code",
   "execution_count": 7,
   "metadata": {
    "editable": true
   },
   "outputs": [],
   "source": [
    "ratings  = spark.read.parquet(os.path.join(output_data,\"ratings\"))"
   ]
  },
  {
   "cell_type": "code",
   "execution_count": 8,
   "metadata": {
    "editable": true
   },
   "outputs": [],
   "source": [
    "movies = spark.read.parquet(os.path.join(output_data,\"movies\"))"
   ]
  },
  {
   "cell_type": "markdown",
   "metadata": {
    "editable": true
   },
   "source": [
    "Register temp tables so that we can use spark sql to query the tables"
   ]
  },
  {
   "cell_type": "code",
   "execution_count": 9,
   "metadata": {
    "editable": true
   },
   "outputs": [],
   "source": [
    "ratings.registerTempTable(\"ratings_table\");movies.registerTempTable(\"movies_table\")"
   ]
  },
  {
   "cell_type": "markdown",
   "metadata": {
    "editable": true
   },
   "source": [
    "Show some top rated movies"
   ]
  },
  {
   "cell_type": "code",
   "execution_count": 18,
   "metadata": {
    "editable": true
   },
   "outputs": [
    {
     "name": "stdout",
     "output_type": "stream",
     "text": [
      "+--------------------+-----------------+\n",
      "|               title|           rating|\n",
      "+--------------------+-----------------+\n",
      "|Song of Freedom (...|              5.0|\n",
      "|Ulysses (Ulisse) ...|              5.0|\n",
      "|Gate of Heavenly ...|              5.0|\n",
      "|Bittersweet Motel...|              5.0|\n",
      "|    Baby, The (1973)|              5.0|\n",
      "|Smashing Time (1967)|              5.0|\n",
      "|Follow the Bitch ...|              5.0|\n",
      "|Schlafes Bruder (...|              5.0|\n",
      "|        Lured (1947)|              5.0|\n",
      "|One Little Indian...|              5.0|\n",
      "|I Am Cuba (Soy Cu...|              4.8|\n",
      "|     Lamerica (1994)|             4.75|\n",
      "|Apple, The (Sib) ...|4.666666666666667|\n",
      "|      Sanjuro (1962)|4.608695652173913|\n",
      "|Seven Samurai (Th...|4.560509554140127|\n",
      "|Shawshank Redempt...|4.554557700942973|\n",
      "|Godfather, The (1...|4.524966261808367|\n",
      "|Close Shave, A (1...| 4.52054794520548|\n",
      "|Usual Suspects, T...|4.517106001121705|\n",
      "|Schindler's List ...|4.510416666666667|\n",
      "+--------------------+-----------------+\n",
      "only showing top 20 rows\n",
      "\n"
     ]
    }
   ],
   "source": [
    "spark.sql(\"\"\"\n",
    "SELECT\n",
    "        m.title, AVG(r.rating) AS rating\n",
    "    FROM\n",
    "        movies_table m\n",
    "    JOIN\n",
    "        ratings_table r\n",
    "    ON\n",
    "        m.movie_id = r.movie_id\n",
    "    GROUP BY\n",
    "        m.title\n",
    "    HAVING\n",
    "        AVG(r.rating) > 4.5\n",
    "    ORDER BY\n",
    "        rating DESC\n",
    "\"\"\").show()"
   ]
  },
  {
   "cell_type": "code",
   "execution_count": null,
   "metadata": {
    "editable": true
   },
   "outputs": [],
   "source": []
  }
 ],
 "metadata": {
  "kernelspec": {
   "display_name": "Python 3",
   "language": "python",
   "name": "python3"
  },
  "language_info": {
   "codemirror_mode": {
    "name": "ipython",
    "version": 3
   },
   "file_extension": ".py",
   "mimetype": "text/x-python",
   "name": "python",
   "nbconvert_exporter": "python",
   "pygments_lexer": "ipython3",
   "version": "3.6.3"
  }
 },
 "nbformat": 4,
 "nbformat_minor": 4
}
